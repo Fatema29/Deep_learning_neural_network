{
 "cells": [
  {
   "cell_type": "markdown",
   "metadata": {},
   "source": [
    "## Importing Libraries"
   ]
  },
  {
   "cell_type": "code",
   "execution_count": 1,
   "metadata": {},
   "outputs": [],
   "source": [
    "import pandas as pd\n",
    "import numpy as np\n",
    "import statistics\n",
    "import warnings\n",
    "warnings.filterwarnings('ignore')"
   ]
  },
  {
   "cell_type": "markdown",
   "metadata": {},
   "source": [
    "## Defining Functions"
   ]
  },
  {
   "cell_type": "code",
   "execution_count": 2,
   "metadata": {},
   "outputs": [],
   "source": [
    "#Functions for data normalization\n",
    "def data_normalize(y):\n",
    "\tmean_y = np.mean(y)\n",
    "\tstd_y = statistics.stdev(y)\n",
    "\tnorm_y=[]\n",
    "\tfor i in y:\n",
    "\t\ty_val = (i-mean_y)/(std_y)\n",
    "\t\tnorm_y.append(y_val)\n",
    "\treturn norm_y\n",
    "\n",
    "def column(matrix, i):\n",
    "    return [row[i] for row in matrix]\n",
    "\n",
    "def array_noramlize(Y):\n",
    "    Norm_array=[]\n",
    "    n= len(Y[1])\n",
    "    for i in range(n):\n",
    "        col= column(Y, i)\n",
    "        norm_col = data_normalize(col)\n",
    "        Norm_array.append(norm_col)\n",
    "    return np.transpose(Norm_array)\n",
    "\n",
    "def accuracy_rate(test_y,y_estimated):\n",
    "    count=0\n",
    "    for i in range(len(test_y)):\n",
    "        if y_estimated[i]==test_y[i]:\n",
    "            count= count+1\n",
    "    acc_rate = count/len(test_y)\n",
    "    return acc_rate"
   ]
  },
  {
   "cell_type": "markdown",
   "metadata": {},
   "source": [
    "## Main Program"
   ]
  },
  {
   "cell_type": "code",
   "execution_count": 4,
   "metadata": {},
   "outputs": [
    {
     "data": {
      "image/png": "[encoded data removed]",
      "text/plain": [
       "<Figure size 432x288 with 1 Axes>"
      ]
     },
     "metadata": {
      "needs_background": "light"
     },
     "output_type": "display_data"
    }
   ],
   "source": [
    "#--------------Reading Dataset-----------------#\n",
    "df = pd.read_csv(\"spambase_mod.csv\")\n",
    "#print(df.shape)\n",
    "\n",
    "#separating dataset into x and y    \n",
    "data_array = df.values\n",
    "\n",
    "init_x= data_array[:, 0:57]\n",
    "init_y = data_array[:, -1] \n",
    "\n",
    "x= np.array(array_noramlize(init_x))\n",
    "\n",
    "reshaped_y = init_y.reshape(init_x.shape[0], -1) \n",
    "y= np.array(reshaped_y) \n",
    "\n",
    "\n",
    "#dataset dividing into training and testing parts\n",
    "train_x = x[:4000, :57] \n",
    "train_y = y[:4000, :1]\n",
    "test_x = x[4000:4601, :57]\n",
    "test_y = y[4000:4601, :1]\n",
    "\n",
    "\n",
    "#Neural Networks\n",
    "exp=[[5], [5,5],[25],[25,25]]\n",
    "episode=10\n",
    "acccuracy_rate=[]\n",
    "for i in exp:\n",
    "    from sklearn.neural_network import MLPClassifier\n",
    "    accuracy_sum=0\n",
    "    for j in range(episode):\n",
    "        mlp = MLPClassifier(hidden_layer_sizes=i,max_iter=5,alpha=0.1, activation='logistic', solver='sgd', learning_rate_init=0.1)\n",
    "        mlp.fit(train_x,train_y)\n",
    "        predictions = mlp.predict(test_x)\n",
    "        acc_rate= accuracy_rate(test_y, predictions)\n",
    "        accuracy_sum+=acc_rate\n",
    "    acccuracy_rate.append(accuracy_sum/episode)\n",
    "    \n",
    "#Plotting the graph of performance\n",
    "import matplotlib.pyplot as plt\n",
    "objects = ('Experiment 1', 'Experiment 2', 'Experiment 3', 'Experiment 4')\n",
    "y_pos = np.arange(len(objects))\n",
    " \n",
    "plt.bar(y_pos, acccuracy_rate, align='center', alpha=0.5)\n",
    "plt.xticks(y_pos, objects)\n",
    "plt.ylabel('Performance')\n",
    "plt.title('Acuracy rate for 4 experiments')\n",
    "\n",
    "plt.show() "
   ]
  }
 ],
 "metadata": {
  "kernelspec": {
   "display_name": "Python 3",
   "language": "python",
   "name": "python3"
  },
  "language_info": {
   "codemirror_mode": {
    "name": "ipython",
    "version": 3
   },
   "file_extension": ".py",
   "mimetype": "text/x-python",
   "name": "python",
   "nbconvert_exporter": "python",
   "pygments_lexer": "ipython3",
   "version": "3.7.1"
  }
 },
 "nbformat": 4,
 "nbformat_minor": 2
}
